{
 "cells": [
  {
   "cell_type": "code",
   "execution_count": 34,
   "metadata": {},
   "outputs": [],
   "source": [
    "# Try out basic techniques for the A\n",
    "\n",
    "import warnings\n",
    "warnings.filterwarnings(\"ignore\")\n",
    "\n",
    "import pandas as pd\n",
    "import numpy as np\n",
    "from sklearn.model_selection import train_test_split, GridSearchCV, RandomizedSearchCV \n",
    "from sklearn.utils import shuffle\n",
    "\n",
    "INPUT_PATH = \"../inputs/train.csv\"\n",
    "TEST_PATH = \"../inputs/test.csv\"\n",
    "\n",
    "\n",
    "def read_data(path, header=1):\n",
    "    return pd.read_csv(path)\n",
    "\n",
    "\n",
    "def split_data_set():\n",
    "    data_set = read_data(INPUT_PATH)\n",
    "    test_data = read_data(TEST_PATH)\n",
    "    data_set = shuffle(data_set)\n",
    "    \n",
    "    sets = np.split(data_set, [0], 0)\n",
    "    train_y = np.asarray(sets[1]['label'])\n",
    "    train_X = np.asarray(sets[1].loc[:, sets[1].columns != 'label'])\n",
    "    \n",
    "    test_X = np.asarray(test_data)[:, 1:]\n",
    "    \n",
    "    return train_X, test_X, train_y\n",
    "\n",
    "\n",
    "def try_classifier(clf, params={}, search='grid'):\n",
    "    train_X, test_X, train_y = split_data_set()\n",
    "    if search == 'grid' and params is not None:\n",
    "        print(\"\\n\\nGrid Search Performed on %s\" % type(clf).__name__)\n",
    "        print(\"Grid Search params are: %s\" % params)\n",
    "        clf = GridSearchCV(clf, param_grid=params)\n",
    "        clf.fit(train_X, train_y)\n",
    "        print(\"Cross Validation Score: \", clf.best_score_)\n",
    "        print(\"GridSearch Best Params: \", clf.best_params_)\n",
    "        with open('out.csv', 'w') as f:\n",
    "            f.write('Id,Prediction\\n')\n",
    "        np.savetxt(open('out.csv', 'ab'), np.c_[np.arange(1, len(test_X)+1), clf.predict(test_X)], '%d', delimiter=',')\n",
    "    elif search == 'random' and params is not None:\n",
    "        print(\"\\n\\nRandom Search Performed on %s\" % type(clf).__name__)\n",
    "        print(\"Random Search params are: %s\" % params)\n",
    "        clf = RandomizedSearchCV(clf, param_distributions=params)\n",
    "        clf.fit(train_X, train_y)\n",
    "        print(\"Cross Validation Score: \", clf.best_score_)\n",
    "        print(\"RandomSearch Best Params: \", clf.best_params_)\n",
    "        with open('out.csv', 'w') as f:\n",
    "            f.write('Id,Prediction\\n')\n",
    "        np.savetxt(open('out.csv', 'ab'), np.c_[np.arange(1, len(test_X)+1), clf.predict(test_X)], '%d', delimiter=',')\n"
   ]
  },
  {
   "cell_type": "code",
   "execution_count": 35,
   "metadata": {},
   "outputs": [
    {
     "name": "stdout",
     "output_type": "stream",
     "text": [
      "\n",
      "\n",
      "Grid Search Performed on LogisticRegression\n",
      "Grid Search params are: {}\n",
      "Cross Validation Score:  0.504\n",
      "GridSearch Best Params:  {}\n"
     ]
    }
   ],
   "source": [
    "from sklearn.linear_model import LogisticRegression\n",
    "\n",
    "# No parameter optimization\n",
    "clf = LogisticRegression()\n",
    "try_classifier(clf)"
   ]
  },
  {
   "cell_type": "code",
   "execution_count": 37,
   "metadata": {},
   "outputs": [
    {
     "name": "stdout",
     "output_type": "stream",
     "text": [
      "\n",
      "\n",
      "Grid Search Performed on LogisticRegression\n",
      "Grid Search params are: [{'solver': ['newton-cg', 'lbfgs', 'liblinear', 'sag', 'saga'], 'penalty': ['l2'], 'C': array([  1.00000000e-07,   1.00000000e-06,   1.00000000e-05])}, {'solver': ['liblinear', 'saga'], 'penalty': ['l1'], 'C': array([  1.00000000e-07,   1.00000000e-06,   1.00000000e-05])}]\n",
      "Cross Validation Score:  0.631\n",
      "GridSearch Best Params:  {'solver': 'newton-cg', 'penalty': 'l2', 'C': 1.0000000000000001e-05}\n"
     ]
    }
   ],
   "source": [
    "grid = [{\n",
    "    'C': np.power(10.0, np.arange(-7, -4)),\n",
    "    'solver': ['newton-cg', 'lbfgs', 'liblinear', 'sag', 'saga'], \n",
    "    'penalty': ['l2']}, {\n",
    "    'C': np.power(10.0, np.arange(-7, -4)),\n",
    "    'solver': ['liblinear', 'saga'], \n",
    "    'penalty': ['l1']}]\n",
    "try_classifier(clf, grid)"
   ]
  },
  {
   "cell_type": "code",
   "execution_count": 41,
   "metadata": {},
   "outputs": [
    {
     "name": "stdout",
     "output_type": "stream",
     "text": [
      "\n",
      "\n",
      "Grid Search Performed on GaussianProcessClassifier\n",
      "Grid Search params are: {}\n",
      "Cross Validation Score:  0.1\n",
      "GridSearch Best Params:  {}\n"
     ]
    }
   ],
   "source": [
    "from sklearn.gaussian_process import GaussianProcessClassifier\n",
    "clf = GaussianProcessClassifier()\n",
    "try_classifier(clf)"
   ]
  },
  {
   "cell_type": "code",
   "execution_count": null,
   "metadata": {},
   "outputs": [],
   "source": []
  }
 ],
 "metadata": {
  "kernelspec": {
   "display_name": "Python 3",
   "language": "python",
   "name": "python3"
  },
  "language_info": {
   "codemirror_mode": {
    "name": "ipython",
    "version": 3
   },
   "file_extension": ".py",
   "mimetype": "text/x-python",
   "name": "python",
   "nbconvert_exporter": "python",
   "pygments_lexer": "ipython3",
   "version": "3.5.2"
  }
 },
 "nbformat": 4,
 "nbformat_minor": 2
}
